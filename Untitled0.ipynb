{
  "nbformat": 4,
  "nbformat_minor": 0,
  "metadata": {
    "colab": {
      "provenance": [],
      "authorship_tag": "ABX9TyNHYjwhaa83sudASp2Rz/PC",
      "include_colab_link": true
    },
    "kernelspec": {
      "name": "python3",
      "display_name": "Python 3"
    },
    "language_info": {
      "name": "python"
    }
  },
  "cells": [
    {
      "cell_type": "markdown",
      "metadata": {
        "id": "view-in-github",
        "colab_type": "text"
      },
      "source": [
        "<a href=\"https://colab.research.google.com/github/Nithishhzz/python/blob/main/Untitled0.ipynb\" target=\"_parent\"><img src=\"https://colab.research.google.com/assets/colab-badge.svg\" alt=\"Open In Colab\"/></a>"
      ]
    },
    {
      "cell_type": "code",
      "execution_count": null,
      "metadata": {
        "colab": {
          "base_uri": "https://localhost:8080/"
        },
        "id": "OfUzDmDo1wwJ",
        "outputId": "06d7fb75-b1c2-42f3-9987-e54ed50e26bb"
      },
      "outputs": [
        {
          "output_type": "stream",
          "name": "stdout",
          "text": [
            "[1, 5, 9]\n"
          ]
        }
      ],
      "source": [
        "odd=[1,9]\n",
        "odd.insert(1,5)\n",
        "print(odd)"
      ]
    },
    {
      "cell_type": "code",
      "source": [
        "odd[3:9]=[11,22,33,4,6,7,8,10]\n",
        "print(odd)"
      ],
      "metadata": {
        "colab": {
          "base_uri": "https://localhost:8080/"
        },
        "id": "LowO0yCh2Bqt",
        "outputId": "a028ee1d-04f2-419d-cbb0-48fa988108c3"
      },
      "execution_count": null,
      "outputs": [
        {
          "output_type": "stream",
          "name": "stdout",
          "text": [
            "[1, 5, 11, 11, 22, 33, 4, 6, 7, 8, 10, 10, 10]\n"
          ]
        }
      ]
    }
  ]
}